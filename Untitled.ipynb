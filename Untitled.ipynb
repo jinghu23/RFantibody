{
 "cells": [
  {
   "cell_type": "code",
   "execution_count": 1,
   "id": "7417f650-04b2-4134-9ff4-499e9d8dc1f6",
   "metadata": {},
   "outputs": [],
   "source": [
    "import torch"
   ]
  },
  {
   "cell_type": "code",
   "execution_count": 2,
   "id": "9a1a0b12-206b-42e6-ae11-c0edf939fd2a",
   "metadata": {},
   "outputs": [
    {
     "data": {
      "text/plain": [
       "torch.Size([3, 3])"
      ]
     },
     "execution_count": 2,
     "metadata": {},
     "output_type": "execute_result"
    }
   ],
   "source": [
    "torch.eye(3).shape"
   ]
  },
  {
   "cell_type": "code",
   "execution_count": 9,
   "id": "40a45874-65ff-4a35-a0e8-11721b2362f3",
   "metadata": {},
   "outputs": [
    {
     "data": {
      "text/plain": [
       "torch.Size([8, 100, 4, 3])"
      ]
     },
     "execution_count": 9,
     "metadata": {},
     "output_type": "execute_result"
    }
   ],
   "source": [
    "xyz_in = torch.randn(8, 100, 4, 3)\n",
    "xyz_in.shape"
   ]
  },
  {
   "cell_type": "code",
   "execution_count": 13,
   "id": "992a3399-37d0-4431-aae4-520d945aa33d",
   "metadata": {},
   "outputs": [
    {
     "data": {
      "text/plain": [
       "torch.Size([8, 100, 4, 3])"
      ]
     },
     "execution_count": 13,
     "metadata": {},
     "output_type": "execute_result"
    }
   ],
   "source": [
    "T_in = xyz_in[:, :, 1].unsqueeze(-2) #.shape\n",
    "(xyz_in - T_in).shape"
   ]
  },
  {
   "cell_type": "code",
   "execution_count": null,
   "id": "e515a9c7-1db6-40f1-a6a7-872dfa5601f7",
   "metadata": {},
   "outputs": [],
   "source": []
  }
 ],
 "metadata": {
  "kernelspec": {
   "display_name": "Python 3 (ipykernel)",
   "language": "python",
   "name": "python3"
  },
  "language_info": {
   "codemirror_mode": {
    "name": "ipython",
    "version": 3
   },
   "file_extension": ".py",
   "mimetype": "text/x-python",
   "name": "python",
   "nbconvert_exporter": "python",
   "pygments_lexer": "ipython3",
   "version": "3.10.18"
  }
 },
 "nbformat": 4,
 "nbformat_minor": 5
}
